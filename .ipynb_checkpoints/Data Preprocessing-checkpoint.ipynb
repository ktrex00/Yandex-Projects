{
 "cells": [
  {
   "cell_type": "markdown",
   "metadata": {},
   "source": [
    "## Analyzing borrowers’ risk of defaulting\n",
    "\n",
    "Your project is to prepare a report for a bank’s loan division. You’ll need to find out if a customer’s marital status and number of children has an impact on whether they will default on a loan. The bank already has some data on customers’ credit worthiness.\n",
    "\n",
    "Your report will be considered when building a **credit scoring** of a potential customer. A ** credit scoring ** is used to evaluate the ability of a potential borrower to repay their loan."
   ]
  },
  {
   "cell_type": "markdown",
   "metadata": {},
   "source": [
    "### Step 1. Open the data file and have a look at the general information. "
   ]
  },
  {
   "cell_type": "code",
   "execution_count": 1,
   "metadata": {},
   "outputs": [
    {
     "name": "stdout",
     "output_type": "stream",
     "text": [
      "<class 'pandas.core.frame.DataFrame'>\n",
      "RangeIndex: 21525 entries, 0 to 21524\n",
      "Data columns (total 12 columns):\n",
      "children            21525 non-null int64\n",
      "days_employed       19351 non-null float64\n",
      "dob_years           21525 non-null int64\n",
      "education           21525 non-null object\n",
      "education_id        21525 non-null int64\n",
      "family_status       21525 non-null object\n",
      "family_status_id    21525 non-null int64\n",
      "gender              21525 non-null object\n",
      "income_type         21525 non-null object\n",
      "debt                21525 non-null int64\n",
      "total_income        19351 non-null float64\n",
      "purpose             21525 non-null object\n",
      "dtypes: float64(2), int64(5), object(5)\n",
      "memory usage: 2.0+ MB\n",
      "None\n"
     ]
    }
   ],
   "source": [
    "import pandas as pd\n",
    "credit = pd.read_csv('/datasets/credit_scoring_eng.csv')\n",
    "print(credit.info())"
   ]
  },
  {
   "cell_type": "code",
   "execution_count": 2,
   "metadata": {},
   "outputs": [
    {
     "data": {
      "text/html": [
       "<div>\n",
       "<style scoped>\n",
       "    .dataframe tbody tr th:only-of-type {\n",
       "        vertical-align: middle;\n",
       "    }\n",
       "\n",
       "    .dataframe tbody tr th {\n",
       "        vertical-align: top;\n",
       "    }\n",
       "\n",
       "    .dataframe thead th {\n",
       "        text-align: right;\n",
       "    }\n",
       "</style>\n",
       "<table border=\"1\" class=\"dataframe\">\n",
       "  <thead>\n",
       "    <tr style=\"text-align: right;\">\n",
       "      <th></th>\n",
       "      <th>children</th>\n",
       "      <th>days_employed</th>\n",
       "      <th>dob_years</th>\n",
       "      <th>education</th>\n",
       "      <th>education_id</th>\n",
       "      <th>family_status</th>\n",
       "      <th>family_status_id</th>\n",
       "      <th>gender</th>\n",
       "      <th>income_type</th>\n",
       "      <th>debt</th>\n",
       "      <th>total_income</th>\n",
       "      <th>purpose</th>\n",
       "    </tr>\n",
       "  </thead>\n",
       "  <tbody>\n",
       "    <tr>\n",
       "      <td>0</td>\n",
       "      <td>1</td>\n",
       "      <td>-8437.673028</td>\n",
       "      <td>42</td>\n",
       "      <td>masters degree</td>\n",
       "      <td>0</td>\n",
       "      <td>married</td>\n",
       "      <td>0</td>\n",
       "      <td>F</td>\n",
       "      <td>employee</td>\n",
       "      <td>0</td>\n",
       "      <td>253875.639453</td>\n",
       "      <td>purchase of the house</td>\n",
       "    </tr>\n",
       "    <tr>\n",
       "      <td>1</td>\n",
       "      <td>1</td>\n",
       "      <td>-4024.803754</td>\n",
       "      <td>36</td>\n",
       "      <td>secondary education</td>\n",
       "      <td>1</td>\n",
       "      <td>married</td>\n",
       "      <td>0</td>\n",
       "      <td>F</td>\n",
       "      <td>employee</td>\n",
       "      <td>0</td>\n",
       "      <td>112080.014102</td>\n",
       "      <td>car purchase</td>\n",
       "    </tr>\n",
       "    <tr>\n",
       "      <td>2</td>\n",
       "      <td>0</td>\n",
       "      <td>-5623.422610</td>\n",
       "      <td>33</td>\n",
       "      <td>Secondary Education</td>\n",
       "      <td>1</td>\n",
       "      <td>married</td>\n",
       "      <td>0</td>\n",
       "      <td>M</td>\n",
       "      <td>employee</td>\n",
       "      <td>0</td>\n",
       "      <td>145885.952297</td>\n",
       "      <td>purchase of the house</td>\n",
       "    </tr>\n",
       "    <tr>\n",
       "      <td>3</td>\n",
       "      <td>3</td>\n",
       "      <td>-4124.747207</td>\n",
       "      <td>32</td>\n",
       "      <td>secondary education</td>\n",
       "      <td>1</td>\n",
       "      <td>married</td>\n",
       "      <td>0</td>\n",
       "      <td>M</td>\n",
       "      <td>employee</td>\n",
       "      <td>0</td>\n",
       "      <td>267628.550329</td>\n",
       "      <td>supplementary education</td>\n",
       "    </tr>\n",
       "    <tr>\n",
       "      <td>4</td>\n",
       "      <td>0</td>\n",
       "      <td>340266.072047</td>\n",
       "      <td>53</td>\n",
       "      <td>secondary education</td>\n",
       "      <td>1</td>\n",
       "      <td>civil partnership</td>\n",
       "      <td>1</td>\n",
       "      <td>F</td>\n",
       "      <td>retiree</td>\n",
       "      <td>0</td>\n",
       "      <td>158616.077870</td>\n",
       "      <td>to have a wedding</td>\n",
       "    </tr>\n",
       "  </tbody>\n",
       "</table>\n",
       "</div>"
      ],
      "text/plain": [
       "   children  days_employed  dob_years            education  education_id  \\\n",
       "0         1   -8437.673028         42       masters degree             0   \n",
       "1         1   -4024.803754         36  secondary education             1   \n",
       "2         0   -5623.422610         33  Secondary Education             1   \n",
       "3         3   -4124.747207         32  secondary education             1   \n",
       "4         0  340266.072047         53  secondary education             1   \n",
       "\n",
       "       family_status  family_status_id gender income_type  debt  \\\n",
       "0            married                 0      F    employee     0   \n",
       "1            married                 0      F    employee     0   \n",
       "2            married                 0      M    employee     0   \n",
       "3            married                 0      M    employee     0   \n",
       "4  civil partnership                 1      F     retiree     0   \n",
       "\n",
       "    total_income                  purpose  \n",
       "0  253875.639453    purchase of the house  \n",
       "1  112080.014102             car purchase  \n",
       "2  145885.952297    purchase of the house  \n",
       "3  267628.550329  supplementary education  \n",
       "4  158616.077870        to have a wedding  "
      ]
     },
     "execution_count": 2,
     "metadata": {},
     "output_type": "execute_result"
    }
   ],
   "source": [
    "credit.head()"
   ]
  },
  {
   "cell_type": "markdown",
   "metadata": {},
   "source": [
    "### Conclusion"
   ]
  },
  {
   "cell_type": "markdown",
   "metadata": {},
   "source": [
    "There are a lot of entries, over 20,000. Total income and days employed have the same amount of entries which is less than the others, which have to do with various relevant details about customers."
   ]
  },
  {
   "cell_type": "markdown",
   "metadata": {},
   "source": [
    "### Step 2. Data preprocessing"
   ]
  },
  {
   "cell_type": "markdown",
   "metadata": {},
   "source": [
    "### Processing missing values"
   ]
  },
  {
   "cell_type": "code",
   "execution_count": 3,
   "metadata": {},
   "outputs": [
    {
     "data": {
      "text/plain": [
       "-986.927316     1\n",
       "-7026.359174    1\n",
       "-4236.274243    1\n",
       "-6620.396473    1\n",
       "-1238.560080    1\n",
       "               ..\n",
       "-2849.351119    1\n",
       "-5619.328204    1\n",
       "-448.829898     1\n",
       "-1687.038672    1\n",
       "-582.538413     1\n",
       "Name: days_employed, Length: 19351, dtype: int64"
      ]
     },
     "execution_count": 3,
     "metadata": {},
     "output_type": "execute_result"
    }
   ],
   "source": [
    "credit['days_employed'].value_counts()"
   ]
  },
  {
   "cell_type": "code",
   "execution_count": 4,
   "metadata": {
    "scrolled": true
   },
   "outputs": [
    {
     "name": "stdout",
     "output_type": "stream",
     "text": [
      "<class 'pandas.core.frame.DataFrame'>\n",
      "Int64Index: 2174 entries, 12 to 21510\n",
      "Data columns (total 12 columns):\n",
      "children            2174 non-null int64\n",
      "days_employed       0 non-null float64\n",
      "dob_years           2174 non-null int64\n",
      "education           2174 non-null object\n",
      "education_id        2174 non-null int64\n",
      "family_status       2174 non-null object\n",
      "family_status_id    2174 non-null int64\n",
      "gender              2174 non-null object\n",
      "income_type         2174 non-null object\n",
      "debt                2174 non-null int64\n",
      "total_income        0 non-null float64\n",
      "purpose             2174 non-null object\n",
      "dtypes: float64(2), int64(5), object(5)\n",
      "memory usage: 220.8+ KB\n"
     ]
    }
   ],
   "source": [
    "credit[credit['days_employed'].isnull()].info()"
   ]
  },
  {
   "cell_type": "markdown",
   "metadata": {},
   "source": [
    "There is definitely a correlation between NaN in days_employed and total_income. Could be because these entries are people who are not employed and thus have no income. Could be just missing data from people who didn't want to submit it."
   ]
  },
  {
   "cell_type": "code",
   "execution_count": 5,
   "metadata": {},
   "outputs": [
    {
     "data": {
      "text/plain": [
       "employee         1105\n",
       "partner           508\n",
       "retiree           413\n",
       "civil servant     147\n",
       "entrepreneur        1\n",
       "Name: income_type, dtype: int64"
      ]
     },
     "execution_count": 5,
     "metadata": {},
     "output_type": "execute_result"
    }
   ],
   "source": [
    "credit[credit['total_income'].isnull()]['income_type'].value_counts()"
   ]
  },
  {
   "cell_type": "code",
   "execution_count": 6,
   "metadata": {},
   "outputs": [
    {
     "data": {
      "text/plain": [
       "employee         1105\n",
       "partner           508\n",
       "retiree           413\n",
       "civil servant     147\n",
       "entrepreneur        1\n",
       "Name: income_type, dtype: int64"
      ]
     },
     "execution_count": 6,
     "metadata": {},
     "output_type": "execute_result"
    }
   ],
   "source": [
    "credit[credit['days_employed'].isnull()]['income_type'].value_counts()"
   ]
  },
  {
   "cell_type": "code",
   "execution_count": 7,
   "metadata": {},
   "outputs": [
    {
     "data": {
      "text/plain": [
       "having a wedding                                 92\n",
       "to have a wedding                                81\n",
       "wedding ceremony                                 76\n",
       "construction of own property                     75\n",
       "housing transactions                             74\n",
       "buy real estate                                  72\n",
       "transactions with my real estate                 71\n",
       "purchase of the house for my family              71\n",
       "property renovation                              70\n",
       "transactions with the residential real estate    70\n",
       "buy commercial real estate                       67\n",
       "buying property for renting out                  65\n",
       "property                                         62\n",
       "buy residential real estate                      61\n",
       "real estate transactions                         61\n",
       "housing                                          60\n",
       "building a property                              59\n",
       "cars                                             57\n",
       "going to university                              56\n",
       "to become educated                               55\n",
       "second-hand car purchase                         54\n",
       "buying my own car                                53\n",
       "to own a car                                     52\n",
       "purchase of the house                            52\n",
       "to get asupplementary education                  51\n",
       "getting an education                             50\n",
       "supplementary education                          48\n",
       "profile education                                47\n",
       "purchase of my own house                         46\n",
       "purchase of a car                                46\n",
       "building a real estate                           46\n",
       "car purchase                                     43\n",
       "education                                        42\n",
       "buying a second-hand car                         42\n",
       "car                                              41\n",
       "university education                             40\n",
       "getting higher education                         36\n",
       "to buy a car                                     30\n",
       "Name: purpose, dtype: int64"
      ]
     },
     "execution_count": 7,
     "metadata": {},
     "output_type": "execute_result"
    }
   ],
   "source": [
    "credit[credit['total_income'].isnull()]['purpose'].value_counts()"
   ]
  },
  {
   "cell_type": "code",
   "execution_count": 8,
   "metadata": {},
   "outputs": [
    {
     "data": {
      "text/plain": [
       " 0     1439\n",
       " 1      475\n",
       " 2      204\n",
       " 3       36\n",
       " 20       9\n",
       " 4        7\n",
       "-1        3\n",
       " 5        1\n",
       "Name: children, dtype: int64"
      ]
     },
     "execution_count": 8,
     "metadata": {},
     "output_type": "execute_result"
    }
   ],
   "source": [
    "credit[credit['total_income'].isnull()]['children'].value_counts()"
   ]
  },
  {
   "cell_type": "code",
   "execution_count": 9,
   "metadata": {},
   "outputs": [
    {
     "data": {
      "text/plain": [
       "secondary education    1408\n",
       "masters degree          496\n",
       "SECONDARY EDUCATION      67\n",
       "Secondary Education      65\n",
       "bachelor degree          55\n",
       "Masters Degree           25\n",
       "MASTERS DEGREE           23\n",
       "primary education        19\n",
       "BACHELOR DEGREE           7\n",
       "Bachelor Degree           7\n",
       "PRIMARY EDUCATION         1\n",
       "Primary Education         1\n",
       "Name: education, dtype: int64"
      ]
     },
     "execution_count": 9,
     "metadata": {},
     "output_type": "execute_result"
    }
   ],
   "source": [
    "credit[credit['total_income'].isnull()]['education'].value_counts()"
   ]
  },
  {
   "cell_type": "code",
   "execution_count": 10,
   "metadata": {},
   "outputs": [
    {
     "data": {
      "text/plain": [
       "married              1237\n",
       "civil partnership     442\n",
       "unmarried             288\n",
       "divorced              112\n",
       "widow / widower        95\n",
       "Name: family_status, dtype: int64"
      ]
     },
     "execution_count": 10,
     "metadata": {},
     "output_type": "execute_result"
    }
   ],
   "source": [
    "credit[credit['total_income'].isnull()]['family_status'].value_counts()"
   ]
  },
  {
   "cell_type": "code",
   "execution_count": 11,
   "metadata": {},
   "outputs": [
    {
     "data": {
      "text/plain": [
       "F    1484\n",
       "M     690\n",
       "Name: gender, dtype: int64"
      ]
     },
     "execution_count": 11,
     "metadata": {},
     "output_type": "execute_result"
    }
   ],
   "source": [
    "credit[credit['total_income'].isnull()]['gender'].value_counts()"
   ]
  },
  {
   "cell_type": "code",
   "execution_count": 12,
   "metadata": {},
   "outputs": [
    {
     "data": {
      "text/plain": [
       "0    2004\n",
       "1     170\n",
       "Name: debt, dtype: int64"
      ]
     },
     "execution_count": 12,
     "metadata": {},
     "output_type": "execute_result"
    }
   ],
   "source": [
    "credit[credit['total_income'].isnull()]['debt'].value_counts()"
   ]
  },
  {
   "cell_type": "code",
   "execution_count": 13,
   "metadata": {},
   "outputs": [
    {
     "name": "stdout",
     "output_type": "stream",
     "text": [
      "<class 'pandas.core.frame.DataFrame'>\n",
      "Int64Index: 19351 entries, 0 to 21524\n",
      "Data columns (total 12 columns):\n",
      "children            19351 non-null int64\n",
      "days_employed       19351 non-null float64\n",
      "dob_years           19351 non-null int64\n",
      "education           19351 non-null object\n",
      "education_id        19351 non-null int64\n",
      "family_status       19351 non-null object\n",
      "family_status_id    19351 non-null int64\n",
      "gender              19351 non-null object\n",
      "income_type         19351 non-null object\n",
      "debt                19351 non-null int64\n",
      "total_income        19351 non-null float64\n",
      "purpose             19351 non-null object\n",
      "dtypes: float64(2), int64(5), object(5)\n",
      "memory usage: 1.9+ MB\n"
     ]
    }
   ],
   "source": [
    "credit = credit.dropna()\n",
    "credit.info()"
   ]
  },
  {
   "cell_type": "code",
   "execution_count": 14,
   "metadata": {},
   "outputs": [
    {
     "data": {
      "text/html": [
       "<div>\n",
       "<style scoped>\n",
       "    .dataframe tbody tr th:only-of-type {\n",
       "        vertical-align: middle;\n",
       "    }\n",
       "\n",
       "    .dataframe tbody tr th {\n",
       "        vertical-align: top;\n",
       "    }\n",
       "\n",
       "    .dataframe thead th {\n",
       "        text-align: right;\n",
       "    }\n",
       "</style>\n",
       "<table border=\"1\" class=\"dataframe\">\n",
       "  <thead>\n",
       "    <tr style=\"text-align: right;\">\n",
       "      <th></th>\n",
       "      <th>children</th>\n",
       "      <th>days_employed</th>\n",
       "      <th>dob_years</th>\n",
       "      <th>education</th>\n",
       "      <th>education_id</th>\n",
       "      <th>family_status</th>\n",
       "      <th>family_status_id</th>\n",
       "      <th>gender</th>\n",
       "      <th>income_type</th>\n",
       "      <th>debt</th>\n",
       "      <th>total_income</th>\n",
       "      <th>purpose</th>\n",
       "    </tr>\n",
       "  </thead>\n",
       "  <tbody>\n",
       "  </tbody>\n",
       "</table>\n",
       "</div>"
      ],
      "text/plain": [
       "Empty DataFrame\n",
       "Columns: [children, days_employed, dob_years, education, education_id, family_status, family_status_id, gender, income_type, debt, total_income, purpose]\n",
       "Index: []"
      ]
     },
     "execution_count": 14,
     "metadata": {},
     "output_type": "execute_result"
    }
   ],
   "source": [
    "credit[credit['days_employed'].isna() == True]"
   ]
  },
  {
   "cell_type": "markdown",
   "metadata": {},
   "source": [
    "Because the entries that are listed as no income seem to also say that they are employees or have other direct income sources, I must assume the values are missing at random, possibly related to user entry error. I have dropped the NaN rows."
   ]
  },
  {
   "cell_type": "code",
   "execution_count": 15,
   "metadata": {},
   "outputs": [
    {
     "data": {
      "text/plain": [
       "35    553\n",
       "41    548\n",
       "38    544\n",
       "40    543\n",
       "34    534\n",
       "42    532\n",
       "33    530\n",
       "39    522\n",
       "44    503\n",
       "31    495\n",
       "29    495\n",
       "48    492\n",
       "36    492\n",
       "37    484\n",
       "30    482\n",
       "32    473\n",
       "43    463\n",
       "50    463\n",
       "49    458\n",
       "27    457\n",
       "45    447\n",
       "28    446\n",
       "56    433\n",
       "52    431\n",
       "46    427\n",
       "54    424\n",
       "47    421\n",
       "53    415\n",
       "59    410\n",
       "58    405\n",
       "57    404\n",
       "51    398\n",
       "55    395\n",
       "26    373\n",
       "60    338\n",
       "25    334\n",
       "61    317\n",
       "62    314\n",
       "24    243\n",
       "63    240\n",
       "64    228\n",
       "23    218\n",
       "65    174\n",
       "22    166\n",
       "66    163\n",
       "67    151\n",
       "21     93\n",
       "0      91\n",
       "68     90\n",
       "69     80\n",
       "70     62\n",
       "71     53\n",
       "20     46\n",
       "72     31\n",
       "19     13\n",
       "73      7\n",
       "74      6\n",
       "75      1\n",
       "Name: dob_years, dtype: int64"
      ]
     },
     "execution_count": 15,
     "metadata": {},
     "output_type": "execute_result"
    }
   ],
   "source": [
    "credit['dob_years'].value_counts()"
   ]
  },
  {
   "cell_type": "markdown",
   "metadata": {},
   "source": [
    "0 years old makes no sense, applies to 101 entries. Because this is a relatively small porportion of borrowers, and we are not looking at ages in the final questions, I will apply the mean to fill the 0 entries."
   ]
  },
  {
   "cell_type": "code",
   "execution_count": 16,
   "metadata": {},
   "outputs": [
    {
     "data": {
      "text/plain": [
       "42.0"
      ]
     },
     "execution_count": 16,
     "metadata": {},
     "output_type": "execute_result"
    }
   ],
   "source": [
    "dob_med = credit['dob_years'].median()\n",
    "dob_med"
   ]
  },
  {
   "cell_type": "code",
   "execution_count": 17,
   "metadata": {},
   "outputs": [
    {
     "data": {
      "text/plain": [
       "42    623\n",
       "35    553\n",
       "41    548\n",
       "38    544\n",
       "40    543\n",
       "34    534\n",
       "33    530\n",
       "39    522\n",
       "44    503\n",
       "31    495\n",
       "29    495\n",
       "36    492\n",
       "48    492\n",
       "37    484\n",
       "30    482\n",
       "32    473\n",
       "43    463\n",
       "50    463\n",
       "49    458\n",
       "27    457\n",
       "45    447\n",
       "28    446\n",
       "56    433\n",
       "52    431\n",
       "46    427\n",
       "54    424\n",
       "47    421\n",
       "53    415\n",
       "59    410\n",
       "58    405\n",
       "57    404\n",
       "51    398\n",
       "55    395\n",
       "26    373\n",
       "60    338\n",
       "25    334\n",
       "61    317\n",
       "62    314\n",
       "24    243\n",
       "63    240\n",
       "64    228\n",
       "23    218\n",
       "65    174\n",
       "22    166\n",
       "66    163\n",
       "67    151\n",
       "21     93\n",
       "68     90\n",
       "69     80\n",
       "70     62\n",
       "71     53\n",
       "20     46\n",
       "72     31\n",
       "19     13\n",
       "73      7\n",
       "74      6\n",
       "75      1\n",
       "Name: dob_years, dtype: int64"
      ]
     },
     "execution_count": 17,
     "metadata": {},
     "output_type": "execute_result"
    }
   ],
   "source": [
    "credit['dob_years'] = credit['dob_years'].replace(to_replace=0, value=dob_med)\n",
    "credit['dob_years'].value_counts()"
   ]
  },
  {
   "cell_type": "markdown",
   "metadata": {},
   "source": [
    "Replaced age of 0 with median age."
   ]
  },
  {
   "cell_type": "code",
   "execution_count": 18,
   "metadata": {},
   "outputs": [
    {
     "data": {
      "text/plain": [
       "secondary education    12342\n",
       "masters degree          4222\n",
       "SECONDARY EDUCATION      705\n",
       "Secondary Education      646\n",
       "bachelor degree          613\n",
       "MASTERS DEGREE           251\n",
       "Masters Degree           243\n",
       "primary education        231\n",
       "Bachelor Degree           40\n",
       "BACHELOR DEGREE           22\n",
       "PRIMARY EDUCATION         16\n",
       "Primary Education         14\n",
       "academic degree            4\n",
       "Academic Degree            1\n",
       "ACADEMIC DEGREE            1\n",
       "Name: education, dtype: int64"
      ]
     },
     "execution_count": 18,
     "metadata": {},
     "output_type": "execute_result"
    }
   ],
   "source": [
    "credit['education'].value_counts()"
   ]
  },
  {
   "cell_type": "code",
   "execution_count": 19,
   "metadata": {},
   "outputs": [
    {
     "data": {
      "text/plain": [
       "married              11143\n",
       "civil partnership     3735\n",
       "unmarried             2525\n",
       "divorced              1083\n",
       "widow / widower        865\n",
       "Name: family_status, dtype: int64"
      ]
     },
     "execution_count": 19,
     "metadata": {},
     "output_type": "execute_result"
    }
   ],
   "source": [
    "credit['family_status'].value_counts()"
   ]
  },
  {
   "cell_type": "code",
   "execution_count": 20,
   "metadata": {},
   "outputs": [
    {
     "data": {
      "text/plain": [
       "F      12752\n",
       "M       6598\n",
       "XNA        1\n",
       "Name: gender, dtype: int64"
      ]
     },
     "execution_count": 20,
     "metadata": {},
     "output_type": "execute_result"
    }
   ],
   "source": [
    "credit['gender'].value_counts()"
   ]
  },
  {
   "cell_type": "code",
   "execution_count": 21,
   "metadata": {},
   "outputs": [
    {
     "data": {
      "text/plain": [
       " 0     12710\n",
       " 1      4343\n",
       " 2      1851\n",
       " 3       294\n",
       " 20       67\n",
       "-1        44\n",
       " 4        34\n",
       " 5         8\n",
       "Name: children, dtype: int64"
      ]
     },
     "execution_count": 21,
     "metadata": {},
     "output_type": "execute_result"
    }
   ],
   "source": [
    "credit['children'].value_counts()"
   ]
  },
  {
   "cell_type": "code",
   "execution_count": 22,
   "metadata": {},
   "outputs": [
    {
     "data": {
      "text/plain": [
       "employee                       10014\n",
       "partner                         4577\n",
       "retiree                         3443\n",
       "civil servant                   1312\n",
       "unempoyed                          2\n",
       "student                            1\n",
       "paternity / maternity leave        1\n",
       "entrepreneur                       1\n",
       "Name: income_type, dtype: int64"
      ]
     },
     "execution_count": 22,
     "metadata": {},
     "output_type": "execute_result"
    }
   ],
   "source": [
    "credit['income_type'].value_counts()"
   ]
  },
  {
   "cell_type": "code",
   "execution_count": 23,
   "metadata": {},
   "outputs": [
    {
     "data": {
      "text/plain": [
       "employee                       10014\n",
       "partner                         4577\n",
       "retiree                         3443\n",
       "civil servant                   1312\n",
       "unemployed                         2\n",
       "student                            1\n",
       "paternity / maternity leave        1\n",
       "entrepreneur                       1\n",
       "Name: income_type, dtype: int64"
      ]
     },
     "execution_count": 23,
     "metadata": {},
     "output_type": "execute_result"
    }
   ],
   "source": [
    "credit['income_type'] = credit['income_type'].replace(to_replace='unempoyed', value='unemployed')\n",
    "credit['income_type'].value_counts()"
   ]
  },
  {
   "cell_type": "code",
   "execution_count": 24,
   "metadata": {},
   "outputs": [
    {
     "data": {
      "text/plain": [
       "0    17780\n",
       "1     1571\n",
       "Name: debt, dtype: int64"
      ]
     },
     "execution_count": 24,
     "metadata": {},
     "output_type": "execute_result"
    }
   ],
   "source": [
    "credit['debt'].value_counts()"
   ]
  },
  {
   "cell_type": "markdown",
   "metadata": {},
   "source": [
    "Most debts have been repaid, assuming 0 means repaid debt and 1 means unpaid debt."
   ]
  },
  {
   "cell_type": "markdown",
   "metadata": {},
   "source": [
    "### Conclusion"
   ]
  },
  {
   "cell_type": "markdown",
   "metadata": {},
   "source": [
    "I dropped the null rows because there seemed to be no obvious correlation otherwise to why they were like that, so bias is probably avoided. I looked at the value counts to see if there were any immediately visible erroneous entries. <br>I will have to streamline the capitalization of education type. There is one gender outlier, XNA. <br>Under income_type, 'unemployed' is spelled wrong, corrected to 'unemployed'. <br>There seems to be an entry of -1 children in 47 entries, along with an entry of 20 children. Assumed both to be a typo meant to be simply 1 and 2. Converted income to integer amounts for ease of manipulation."
   ]
  },
  {
   "cell_type": "markdown",
   "metadata": {},
   "source": [
    "### Data type replacement"
   ]
  },
  {
   "cell_type": "code",
   "execution_count": 25,
   "metadata": {
    "scrolled": true
   },
   "outputs": [
    {
     "name": "stdout",
     "output_type": "stream",
     "text": [
      "<class 'pandas.core.frame.DataFrame'>\n",
      "Int64Index: 19351 entries, 0 to 21524\n",
      "Data columns (total 12 columns):\n",
      "children            19351 non-null int64\n",
      "days_employed       19351 non-null float64\n",
      "dob_years           19351 non-null int64\n",
      "education           19351 non-null object\n",
      "education_id        19351 non-null int64\n",
      "family_status       19351 non-null object\n",
      "family_status_id    19351 non-null int64\n",
      "gender              19351 non-null object\n",
      "income_type         19351 non-null object\n",
      "debt                19351 non-null int64\n",
      "total_income        19351 non-null int64\n",
      "purpose             19351 non-null object\n",
      "dtypes: float64(1), int64(6), object(5)\n",
      "memory usage: 1.9+ MB\n"
     ]
    }
   ],
   "source": [
    "\n",
    "credit['dob_years'] = pd.to_numeric(credit['dob_years']).astype(int)\n",
    "credit['total_income'] = pd.to_numeric(credit['total_income']).astype(int)\n",
    "credit.info()"
   ]
  },
  {
   "cell_type": "markdown",
   "metadata": {},
   "source": [
    "### Conclusion"
   ]
  },
  {
   "cell_type": "markdown",
   "metadata": {},
   "source": [
    "Converted dob_years and total_income to int from object. This will allow operations on the numbers. All other data types seem to make sense for the values provided."
   ]
  },
  {
   "cell_type": "markdown",
   "metadata": {},
   "source": [
    "### Processing duplicates"
   ]
  },
  {
   "cell_type": "code",
   "execution_count": 26,
   "metadata": {},
   "outputs": [
    {
     "data": {
      "text/plain": [
       "secondary education    13693\n",
       "masters degree          4716\n",
       "bachelor degree          675\n",
       "primary education        261\n",
       "academic degree            6\n",
       "Name: education, dtype: int64"
      ]
     },
     "execution_count": 26,
     "metadata": {},
     "output_type": "execute_result"
    }
   ],
   "source": [
    "credit['education'] = credit['education'].str.lower()\n",
    "credit['education'].value_counts()"
   ]
  },
  {
   "cell_type": "code",
   "execution_count": 27,
   "metadata": {},
   "outputs": [
    {
     "data": {
      "text/plain": [
       "0    12710\n",
       "1     4387\n",
       "2     1918\n",
       "3      294\n",
       "4       34\n",
       "5        8\n",
       "Name: children, dtype: int64"
      ]
     },
     "execution_count": 27,
     "metadata": {},
     "output_type": "execute_result"
    }
   ],
   "source": [
    "credit['children'] = abs(credit['children'])\n",
    "credit['children'] = credit['children'].replace(to_replace=20, value=2)\n",
    "    \n",
    "credit['children'].value_counts()"
   ]
  },
  {
   "cell_type": "code",
   "execution_count": 28,
   "metadata": {},
   "outputs": [
    {
     "data": {
      "text/html": [
       "<div>\n",
       "<style scoped>\n",
       "    .dataframe tbody tr th:only-of-type {\n",
       "        vertical-align: middle;\n",
       "    }\n",
       "\n",
       "    .dataframe tbody tr th {\n",
       "        vertical-align: top;\n",
       "    }\n",
       "\n",
       "    .dataframe thead th {\n",
       "        text-align: right;\n",
       "    }\n",
       "</style>\n",
       "<table border=\"1\" class=\"dataframe\">\n",
       "  <thead>\n",
       "    <tr style=\"text-align: right;\">\n",
       "      <th></th>\n",
       "      <th>children</th>\n",
       "      <th>days_employed</th>\n",
       "      <th>dob_years</th>\n",
       "      <th>education</th>\n",
       "      <th>education_id</th>\n",
       "      <th>family_status</th>\n",
       "      <th>family_status_id</th>\n",
       "      <th>gender</th>\n",
       "      <th>income_type</th>\n",
       "      <th>debt</th>\n",
       "      <th>total_income</th>\n",
       "      <th>purpose</th>\n",
       "    </tr>\n",
       "  </thead>\n",
       "  <tbody>\n",
       "  </tbody>\n",
       "</table>\n",
       "</div>"
      ],
      "text/plain": [
       "Empty DataFrame\n",
       "Columns: [children, days_employed, dob_years, education, education_id, family_status, family_status_id, gender, income_type, debt, total_income, purpose]\n",
       "Index: []"
      ]
     },
     "execution_count": 28,
     "metadata": {},
     "output_type": "execute_result"
    }
   ],
   "source": [
    "duplicates = credit[credit.duplicated()]\n",
    "duplicates"
   ]
  },
  {
   "cell_type": "code",
   "execution_count": 29,
   "metadata": {},
   "outputs": [
    {
     "data": {
      "text/plain": [
       "children            0\n",
       "days_employed       0\n",
       "dob_years           0\n",
       "education           0\n",
       "education_id        0\n",
       "family_status       0\n",
       "family_status_id    0\n",
       "gender              0\n",
       "income_type         0\n",
       "debt                0\n",
       "total_income        0\n",
       "purpose             0\n",
       "dtype: int64"
      ]
     },
     "execution_count": 29,
     "metadata": {},
     "output_type": "execute_result"
    }
   ],
   "source": [
    "duplicates.count()"
   ]
  },
  {
   "cell_type": "markdown",
   "metadata": {},
   "source": [
    "### Conclusion"
   ]
  },
  {
   "cell_type": "markdown",
   "metadata": {},
   "source": [
    "After adjusting for the null entries, and handling some possible user typos in entry for children and education, there are no duplicate rows. Converted education entry to lowercase, removed duplicates.  Fixed -1 value and 20 value in children, assumed typo for 1 and 2, respectively."
   ]
  },
  {
   "cell_type": "markdown",
   "metadata": {},
   "source": [
    "### Lemmatization"
   ]
  },
  {
   "cell_type": "code",
   "execution_count": 30,
   "metadata": {
    "scrolled": true
   },
   "outputs": [],
   "source": [
    "import nltk\n",
    "from nltk.stem import WordNetLemmatizer\n",
    "lemmatizer = WordNetLemmatizer()"
   ]
  },
  {
   "cell_type": "code",
   "execution_count": 31,
   "metadata": {
    "scrolled": true
   },
   "outputs": [
    {
     "data": {
      "text/plain": [
       "[car]                                                  875\n",
       "[wedding, ceremony]                                    721\n",
       "[to, have, a, wedding]                                 693\n",
       "[having, a, wedding]                                   685\n",
       "[real, estate, transaction]                            615\n",
       "[buy, commercial, real, estate]                        597\n",
       "[purchase, of, the, house]                             595\n",
       "[buying, property, for, renting, out]                  588\n",
       "[housing]                                              587\n",
       "[transaction, with, the, residential, real, estate]    581\n",
       "[building, a, real, estate]                            580\n",
       "[housing, transaction]                                 579\n",
       "[purchase, of, my, own, house]                         574\n",
       "[property]                                             572\n",
       "[purchase, of, the, house, for, my, family]            570\n",
       "[building, a, property]                                561\n",
       "[construction, of, own, property]                      560\n",
       "[transaction, with, my, real, estate]                  559\n",
       "[buy, real, estate]                                    552\n",
       "[buy, residential, real, estate]                       546\n",
       "[property, renovation]                                 542\n",
       "[buying, my, own, car]                                 452\n",
       "[to, buy, a, car]                                      442\n",
       "[going, to, university]                                440\n",
       "[buying, a, second-hand, car]                          437\n",
       "[second-hand, car, purchase]                           435\n",
       "[to, own, a, car]                                      428\n",
       "[car, purchase]                                        419\n",
       "[supplementary, education]                             414\n",
       "[university, education]                                413\n",
       "[purchase, of, a, car]                                 409\n",
       "[education]                                            405\n",
       "[to, get, asupplementary, education]                   396\n",
       "[getting, an, education]                               393\n",
       "[getting, higher, education]                           390\n",
       "[profile, education]                                   389\n",
       "[to, become, educated]                                 357\n",
       "Name: purpose_lemma, dtype: int64"
      ]
     },
     "execution_count": 31,
     "metadata": {},
     "output_type": "execute_result"
    }
   ],
   "source": [
    "def lemma_words(row):\n",
    "    return [lemmatizer.lemmatize(row, pos='n') for row in nltk.word_tokenize(row)]\n",
    "\n",
    "credit['purpose_lemma'] = credit['purpose'].apply(lemma_words)\n",
    "credit['purpose_lemma'].value_counts()"
   ]
  },
  {
   "cell_type": "markdown",
   "metadata": {},
   "source": [
    "### Conclusion"
   ]
  },
  {
   "cell_type": "markdown",
   "metadata": {},
   "source": [
    "Created a new row in the dataframe for lemmatized purposes for loans."
   ]
  },
  {
   "cell_type": "markdown",
   "metadata": {},
   "source": [
    "### Categorizing Data"
   ]
  },
  {
   "cell_type": "code",
   "execution_count": 32,
   "metadata": {},
   "outputs": [],
   "source": [
    "\n",
    "def cat_purpose(row):\n",
    "    estate = ['housing', 'house', 'real', 'estate', 'property']\n",
    "    education = ['education', 'university', 'educated']\n",
    "    car = ['car']\n",
    "    wedding = ['wedding']\n",
    "    \n",
    "    for keyword in estate:\n",
    "        if keyword in row:\n",
    "            return 'estate'\n",
    "    for keyword in education:\n",
    "        if keyword in row:\n",
    "            return 'education'\n",
    "    for keyword in car:\n",
    "        if keyword in row:\n",
    "            return 'car'\n",
    "    for keyword in wedding:\n",
    "        if keyword in row:\n",
    "            return 'wedding'\n",
    "        \n",
    "    return 'other'   \n",
    "\n",
    "credit['loan_purp'] = credit['purpose_lemma'].apply(cat_purpose) \n"
   ]
  },
  {
   "cell_type": "code",
   "execution_count": 33,
   "metadata": {},
   "outputs": [
    {
     "data": {
      "text/plain": [
       "estate       9758\n",
       "car          3897\n",
       "education    3597\n",
       "wedding      2099\n",
       "Name: loan_purp, dtype: int64"
      ]
     },
     "execution_count": 33,
     "metadata": {},
     "output_type": "execute_result"
    }
   ],
   "source": [
    "credit['loan_purp'].value_counts()"
   ]
  },
  {
   "cell_type": "code",
   "execution_count": 34,
   "metadata": {},
   "outputs": [
    {
     "data": {
      "text/html": [
       "<div>\n",
       "<style scoped>\n",
       "    .dataframe tbody tr th:only-of-type {\n",
       "        vertical-align: middle;\n",
       "    }\n",
       "\n",
       "    .dataframe tbody tr th {\n",
       "        vertical-align: top;\n",
       "    }\n",
       "\n",
       "    .dataframe thead th {\n",
       "        text-align: right;\n",
       "    }\n",
       "</style>\n",
       "<table border=\"1\" class=\"dataframe\">\n",
       "  <thead>\n",
       "    <tr style=\"text-align: right;\">\n",
       "      <th></th>\n",
       "      <th>children</th>\n",
       "      <th>days_employed</th>\n",
       "      <th>dob_years</th>\n",
       "      <th>education</th>\n",
       "      <th>education_id</th>\n",
       "      <th>family_status</th>\n",
       "      <th>family_status_id</th>\n",
       "      <th>gender</th>\n",
       "      <th>income_type</th>\n",
       "      <th>debt</th>\n",
       "      <th>total_income</th>\n",
       "      <th>purpose</th>\n",
       "      <th>purpose_lemma</th>\n",
       "      <th>loan_purp</th>\n",
       "    </tr>\n",
       "  </thead>\n",
       "  <tbody>\n",
       "  </tbody>\n",
       "</table>\n",
       "</div>"
      ],
      "text/plain": [
       "Empty DataFrame\n",
       "Columns: [children, days_employed, dob_years, education, education_id, family_status, family_status_id, gender, income_type, debt, total_income, purpose, purpose_lemma, loan_purp]\n",
       "Index: []"
      ]
     },
     "execution_count": 34,
     "metadata": {},
     "output_type": "execute_result"
    }
   ],
   "source": [
    "credit[credit['loan_purp'] == 'other']"
   ]
  },
  {
   "cell_type": "markdown",
   "metadata": {},
   "source": [
    "Separated loan purposes by type, continued categorizing until nothing is left in 'other' bin. This allows us to easily sort by and handle data in groups, to test relationships between them.\n",
    "\n"
   ]
  },
  {
   "cell_type": "code",
   "execution_count": 35,
   "metadata": {},
   "outputs": [
    {
     "name": "stdout",
     "output_type": "stream",
     "text": [
      "2244937\n"
     ]
    },
    {
     "data": {
      "text/plain": [
       "748312.3333333334"
      ]
     },
     "execution_count": 35,
     "metadata": {},
     "output_type": "execute_result"
    }
   ],
   "source": [
    "income_range = credit['total_income'].max() - credit['total_income'].min()\n",
    "print(income_range)\n",
    "income_range / 3"
   ]
  },
  {
   "cell_type": "code",
   "execution_count": 36,
   "metadata": {},
   "outputs": [
    {
     "data": {
      "text/plain": [
       "Low     19304\n",
       "Med        40\n",
       "High        7\n",
       "Name: inc_cat, dtype: int64"
      ]
     },
     "execution_count": 36,
     "metadata": {},
     "output_type": "execute_result"
    }
   ],
   "source": [
    "#income ranges 0-755201 = low\n",
    "#income ranges 755201-1510402 = med\n",
    "#income ranges 1510402 and up = high\n",
    "def inc_cat(income):\n",
    "    if income <= 755201 :\n",
    "        return 'Low'\n",
    "    if income <= 1510402:\n",
    "        return 'Med'\n",
    "    return 'High'\n",
    "\n",
    "\n",
    "credit['inc_cat'] = credit['total_income'].apply(inc_cat)\n",
    "credit['inc_cat'].value_counts()"
   ]
  },
  {
   "cell_type": "markdown",
   "metadata": {},
   "source": [
    "Divided income into 3 equal levels, which will allow us to look more granularly at relation of levels of income to debt repayment."
   ]
  },
  {
   "cell_type": "markdown",
   "metadata": {},
   "source": [
    "If debt = 0 means a loan paid back successfully and debt = 1 means unsuccessful, we can use .sum() and .count() to find ratios of debts repayed."
   ]
  },
  {
   "cell_type": "markdown",
   "metadata": {},
   "source": [
    "### Conclusion"
   ]
  },
  {
   "cell_type": "markdown",
   "metadata": {},
   "source": [
    "Because the \"purposes\" for the loan cover many different reasons, after using lemmatization, I was able to condense it down to four main categories. This allows to compare debt repayment rates with loan purposes.\n",
    "\n",
    "I also divided the income into 3 equal levels based on the range, to get a rough idea of who is most reliable to pay their loan back."
   ]
  },
  {
   "cell_type": "markdown",
   "metadata": {},
   "source": [
    "### Step 3. Answer these questions"
   ]
  },
  {
   "cell_type": "markdown",
   "metadata": {},
   "source": [
    "- Is there a relation between having kids and repaying a loan on time?"
   ]
  },
  {
   "cell_type": "code",
   "execution_count": 37,
   "metadata": {},
   "outputs": [
    {
     "data": {
      "text/plain": [
       "0.07490165224232888"
      ]
     },
     "execution_count": 37,
     "metadata": {},
     "output_type": "execute_result"
    }
   ],
   "source": [
    "childfree = credit[credit['children'] == 0]['debt']\n",
    "childfree_ratio = childfree.sum() / childfree.count()\n",
    "childfree_ratio"
   ]
  },
  {
   "cell_type": "code",
   "execution_count": 38,
   "metadata": {},
   "outputs": [
    {
     "data": {
      "text/plain": [
       "0.09320885408823973"
      ]
     },
     "execution_count": 38,
     "metadata": {},
     "output_type": "execute_result"
    }
   ],
   "source": [
    "childfull = credit[credit['children'] > 0]['debt']\n",
    "childfull_ratio = childfull.sum() / childfull.count()\n",
    "childfull_ratio"
   ]
  },
  {
   "cell_type": "code",
   "execution_count": 39,
   "metadata": {},
   "outputs": [
    {
     "name": "stdout",
     "output_type": "stream",
     "text": [
      "Rate of unpaid loans by parenthood status:\n",
      "Childfree: 7.49%\n",
      "Have Children: 9.32%\n"
     ]
    }
   ],
   "source": [
    "print('Rate of unpaid loans by parenthood status:')\n",
    "print('Childfree: {:.2%}' .format(childfree_ratio))\n",
    "print('Have Children: {:.2%}' .format(childfull_ratio))"
   ]
  },
  {
   "cell_type": "markdown",
   "metadata": {},
   "source": [
    "### Conclusion"
   ]
  },
  {
   "cell_type": "markdown",
   "metadata": {},
   "source": [
    "There is a 2% difference in repayment rates between those who do not have children and those who do. 9% of borrowers with children are unpaid, while only 7% of childless borrowers have not paid. Childless borrowers are the better choice, but not by much."
   ]
  },
  {
   "cell_type": "markdown",
   "metadata": {},
   "source": [
    "- Is there a relation between marital status and repaying a loan on time?"
   ]
  },
  {
   "cell_type": "code",
   "execution_count": 40,
   "metadata": {},
   "outputs": [
    {
     "data": {
      "text/plain": [
       "married              11143\n",
       "civil partnership     3735\n",
       "unmarried             2525\n",
       "divorced              1083\n",
       "widow / widower        865\n",
       "Name: family_status, dtype: int64"
      ]
     },
     "execution_count": 40,
     "metadata": {},
     "output_type": "execute_result"
    }
   ],
   "source": [
    "credit['family_status'].value_counts()"
   ]
  },
  {
   "cell_type": "code",
   "execution_count": 41,
   "metadata": {},
   "outputs": [
    {
     "data": {
      "text/plain": [
       "0.07592210356277483"
      ]
     },
     "execution_count": 41,
     "metadata": {},
     "output_type": "execute_result"
    }
   ],
   "source": [
    "married_ratio = credit[credit['family_status'] == 'married']['debt'].sum() / credit[credit['family_status'] == 'married']['debt'].count()\n",
    "married_ratio"
   ]
  },
  {
   "cell_type": "code",
   "execution_count": 42,
   "metadata": {},
   "outputs": [
    {
     "data": {
      "text/plain": [
       "0.1005940594059406"
      ]
     },
     "execution_count": 42,
     "metadata": {},
     "output_type": "execute_result"
    }
   ],
   "source": [
    "unmarried_ratio = credit[credit['family_status'] == 'unmarried']['debt'].sum() / credit[credit['family_status'] == 'unmarried']['debt'].count()\n",
    "unmarried_ratio"
   ]
  },
  {
   "cell_type": "code",
   "execution_count": 43,
   "metadata": {},
   "outputs": [
    {
     "data": {
      "text/plain": [
       "0.09076305220883533"
      ]
     },
     "execution_count": 43,
     "metadata": {},
     "output_type": "execute_result"
    }
   ],
   "source": [
    "partner_ratio = credit[credit['family_status'] == 'civil partnership']['debt'].sum() / credit[credit['family_status'] == 'civil partnership']['debt'].count()\n",
    "partner_ratio"
   ]
  },
  {
   "cell_type": "code",
   "execution_count": 44,
   "metadata": {},
   "outputs": [
    {
     "data": {
      "text/plain": [
       "0.07017543859649122"
      ]
     },
     "execution_count": 44,
     "metadata": {},
     "output_type": "execute_result"
    }
   ],
   "source": [
    "divorce_ratio = credit[credit['family_status'] == 'divorced']['debt'].sum() / credit[credit['family_status'] == 'divorced']['debt'].count()\n",
    "divorce_ratio"
   ]
  },
  {
   "cell_type": "code",
   "execution_count": 45,
   "metadata": {},
   "outputs": [
    {
     "data": {
      "text/plain": [
       "0.06473988439306358"
      ]
     },
     "execution_count": 45,
     "metadata": {},
     "output_type": "execute_result"
    }
   ],
   "source": [
    "widow_ratio = credit[credit['family_status'] == 'widow / widower']['debt'].sum() / credit[credit['family_status'] == 'widow / widower']['debt'].count()\n",
    "widow_ratio"
   ]
  },
  {
   "cell_type": "code",
   "execution_count": 46,
   "metadata": {
    "scrolled": true
   },
   "outputs": [
    {
     "name": "stdout",
     "output_type": "stream",
     "text": [
      "Rate of unpaid loans by marriage status:\n",
      "Married: 7.59%\n",
      "Civil Partnership: 9.08%\n",
      "Unmarried: 10.06%\n",
      "Divorced: 7.02%\n",
      "Widow / Widower: 6.47%\n"
     ]
    }
   ],
   "source": [
    "print('Rate of unpaid loans by marriage status:')\n",
    "print('Married: {:.2%}' .format(married_ratio))\n",
    "print('Civil Partnership: {:.2%}' .format(partner_ratio))\n",
    "print('Unmarried: {:.2%}' .format(unmarried_ratio))\n",
    "print('Divorced: {:.2%}' .format(divorce_ratio))\n",
    "print('Widow / Widower: {:.2%}' .format(widow_ratio))"
   ]
  },
  {
   "cell_type": "markdown",
   "metadata": {},
   "source": [
    "### Conclusion"
   ]
  },
  {
   "cell_type": "markdown",
   "metadata": {},
   "source": [
    "Widows and widowers are the best repayers of loans, but there is no drastic difference. Those in a civil partnership or unmarried have the highest rates of unpaid loans."
   ]
  },
  {
   "cell_type": "markdown",
   "metadata": {},
   "source": [
    "- Is there a relation between income level and repaying a loan on time?"
   ]
  },
  {
   "cell_type": "code",
   "execution_count": 47,
   "metadata": {},
   "outputs": [
    {
     "data": {
      "text/plain": [
       "0.0811748860339826"
      ]
     },
     "execution_count": 47,
     "metadata": {},
     "output_type": "execute_result"
    }
   ],
   "source": [
    "low_ratio = credit[credit['inc_cat'] == 'Low']['debt'].sum() / credit[credit['inc_cat'] == 'Low']['debt'].count()\n",
    "low_ratio"
   ]
  },
  {
   "cell_type": "code",
   "execution_count": 48,
   "metadata": {},
   "outputs": [
    {
     "data": {
      "text/plain": [
       "0.075"
      ]
     },
     "execution_count": 48,
     "metadata": {},
     "output_type": "execute_result"
    }
   ],
   "source": [
    "med_ratio = credit[credit['inc_cat'] == 'Med']['debt'].sum() / credit[credit['inc_cat'] == 'Med']['debt'].count()\n",
    "med_ratio"
   ]
  },
  {
   "cell_type": "code",
   "execution_count": 49,
   "metadata": {},
   "outputs": [
    {
     "data": {
      "text/plain": [
       "0.14285714285714285"
      ]
     },
     "execution_count": 49,
     "metadata": {},
     "output_type": "execute_result"
    }
   ],
   "source": [
    "high_ratio = credit[credit['inc_cat'] == 'High']['debt'].sum() / credit[credit['inc_cat'] == 'High']['debt'].count()\n",
    "high_ratio"
   ]
  },
  {
   "cell_type": "code",
   "execution_count": 50,
   "metadata": {},
   "outputs": [
    {
     "name": "stdout",
     "output_type": "stream",
     "text": [
      "Rate of unpaid loans by income level:\n",
      "High income: 14.29%\n",
      "Middle income: 7.50%\n",
      "Low income: 8.12%\n"
     ]
    }
   ],
   "source": [
    "print('Rate of unpaid loans by income level:')\n",
    "print('High income: {:.2%}' .format(high_ratio))\n",
    "print('Middle income: {:.2%}' .format(med_ratio))\n",
    "print('Low income: {:.2%}' .format(low_ratio))"
   ]
  },
  {
   "cell_type": "markdown",
   "metadata": {},
   "source": [
    "### Conclusion"
   ]
  },
  {
   "cell_type": "markdown",
   "metadata": {},
   "source": [
    "Middle range incomes tend to pay back loans more reliably, whereas higher earners tend to be much less reliable."
   ]
  },
  {
   "cell_type": "markdown",
   "metadata": {},
   "source": [
    "- How do different loan purposes affect on-time repayment of the loan?"
   ]
  },
  {
   "cell_type": "code",
   "execution_count": 51,
   "metadata": {},
   "outputs": [
    {
     "data": {
      "text/plain": [
       "0.09417500641519118"
      ]
     },
     "execution_count": 51,
     "metadata": {},
     "output_type": "execute_result"
    }
   ],
   "source": [
    "car_loan = credit[credit['loan_purp'] == 'car']['debt']\n",
    "car_ratio = car_loan.sum() / car_loan.count()\n",
    "car_ratio"
   ]
  },
  {
   "cell_type": "code",
   "execution_count": 52,
   "metadata": {},
   "outputs": [
    {
     "data": {
      "text/plain": [
       "0.07327321172371387"
      ]
     },
     "execution_count": 52,
     "metadata": {},
     "output_type": "execute_result"
    }
   ],
   "source": [
    "estate_loan = credit[credit['loan_purp'] == 'estate']['debt']\n",
    "estate_ratio = estate_loan.sum() / estate_loan.count()\n",
    "estate_ratio"
   ]
  },
  {
   "cell_type": "code",
   "execution_count": 53,
   "metadata": {},
   "outputs": [
    {
     "data": {
      "text/plain": [
       "0.09202112871837642"
      ]
     },
     "execution_count": 53,
     "metadata": {},
     "output_type": "execute_result"
    }
   ],
   "source": [
    "edu_loan = credit[credit['loan_purp'] == 'education']['debt']\n",
    "edu_ratio = edu_loan.sum() / edu_loan.count()\n",
    "edu_ratio"
   ]
  },
  {
   "cell_type": "code",
   "execution_count": 54,
   "metadata": {},
   "outputs": [
    {
     "data": {
      "text/plain": [
       "0.07527393997141496"
      ]
     },
     "execution_count": 54,
     "metadata": {},
     "output_type": "execute_result"
    }
   ],
   "source": [
    "wed_loan = credit[credit['loan_purp'] == 'wedding']['debt']\n",
    "wed_ratio = wed_loan.sum() / wed_loan.count()\n",
    "wed_ratio"
   ]
  },
  {
   "cell_type": "code",
   "execution_count": 55,
   "metadata": {},
   "outputs": [
    {
     "name": "stdout",
     "output_type": "stream",
     "text": [
      "Rate of unpaid loans by loan purpose:\n",
      "Car loan: 9.42%\n",
      "Property, Home, Real Estate: 7.33%\n",
      "Education and Schooling: 9.20%\n",
      "Wedding: 7.53%\n"
     ]
    }
   ],
   "source": [
    "print('Rate of unpaid loans by loan purpose:')\n",
    "print('Car loan: {:.2%}' .format(car_ratio))\n",
    "print('Property, Home, Real Estate: {:.2%}' .format(estate_ratio))\n",
    "print('Education and Schooling: {:.2%}' .format(edu_ratio))\n",
    "print('Wedding: {:.2%}' .format(wed_ratio))"
   ]
  },
  {
   "cell_type": "markdown",
   "metadata": {},
   "source": [
    "### Conclusion"
   ]
  },
  {
   "cell_type": "markdown",
   "metadata": {},
   "source": [
    "Property loans are the most reliable to be repaid, while car loans and school loans are the ones left unpaid the most."
   ]
  },
  {
   "cell_type": "markdown",
   "metadata": {},
   "source": [
    "### Step 4. General conclusion"
   ]
  },
  {
   "cell_type": "markdown",
   "metadata": {},
   "source": [
    "There is not a very strong correlation between the analyzed groups to determine who will pay back a loan more reliably. Those with higher incomes have a much higher rate of unpaid loans. Looking at all analyzed groups, someone who is a mid-level earner, borrowing for property or a house, widowed and without children, is probably the group that would have the highest 'credit score'."
   ]
  }
 ],
 "metadata": {
  "kernelspec": {
   "display_name": "Python 3",
   "language": "python",
   "name": "python3"
  },
  "language_info": {
   "codemirror_mode": {
    "name": "ipython",
    "version": 3
   },
   "file_extension": ".py",
   "mimetype": "text/x-python",
   "name": "python",
   "nbconvert_exporter": "python",
   "pygments_lexer": "ipython3",
   "version": "3.7.6"
  }
 },
 "nbformat": 4,
 "nbformat_minor": 2
}
